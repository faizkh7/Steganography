{
  "nbformat": 4,
  "nbformat_minor": 0,
  "metadata": {
    "colab": {
      "provenance": [],
      "gpuType": "T4"
    },
    "kernelspec": {
      "name": "python3",
      "display_name": "Python 3"
    },
    "language_info": {
      "name": "python"
    },
    "accelerator": "GPU"
  },
  "cells": [
    {
      "cell_type": "code",
      "execution_count": 1,
      "metadata": {
        "colab": {
          "base_uri": "https://localhost:8080/"
        },
        "id": "Amj5Qdd8vH1R",
        "outputId": "5cfa7a5e-53c6-4347-b46e-cddca7b85b89"
      },
      "outputs": [
        {
          "output_type": "stream",
          "name": "stdout",
          "text": [
            "4840 2766\n",
            "227 222\n",
            "Carrier image is large enough to contain the passenger image.\n"
          ]
        }
      ],
      "source": [
        "#hide image in image\n",
        "from PIL import Image\n",
        "import csv\n",
        "\n",
        "def int_to_bin(value):\n",
        "    return format(value, '08b')\n",
        "\n",
        "def embed_bits(carrier_pixel, bits):\n",
        "    r, g, b = carrier_pixel\n",
        "    r = (r & 0b11111100) | int(bits[0:2], 2)\n",
        "    g = (g & 0b11111100) | int(bits[2:4], 2)\n",
        "    b = (b & 0b11111100) | int(bits[4:6], 2)\n",
        "    return (r, g, b)\n",
        "\n",
        "def encode_image(carrier, passenger):\n",
        "    carrier_pixels = carrier.load()\n",
        "    passenger_pixels = passenger.load()\n",
        "\n",
        "    width, height = passenger.size\n",
        "    carrier_index = 0\n",
        "\n",
        "    for y in range(height):\n",
        "        for x in range(width):\n",
        "            r, g, b = passenger_pixels[x, y]\n",
        "            r_bits = int_to_bin(r)\n",
        "            g_bits = int_to_bin(g)\n",
        "            b_bits = int_to_bin(b)\n",
        "\n",
        "            # Embed each 2 bits into 4 carrier pixels\n",
        "            carrier_pixels[carrier_index % carrier.width, carrier_index // carrier.width] = embed_bits(carrier_pixels[carrier_index % carrier.width, carrier_index // carrier.width], r_bits[:2]+g_bits[:2]+b_bits[:2])\n",
        "            carrier_index += 1\n",
        "\n",
        "            carrier_pixels[carrier_index % carrier.width, carrier_index // carrier.width] = embed_bits(carrier_pixels[carrier_index % carrier.width, carrier_index // carrier.width], r_bits[2:4]+g_bits[2:4]+b_bits[2:4])\n",
        "            carrier_index += 1\n",
        "\n",
        "            carrier_pixels[carrier_index % carrier.width, carrier_index // carrier.width] = embed_bits(carrier_pixels[carrier_index % carrier.width, carrier_index // carrier.width], r_bits[4:6]+g_bits[4:6]+b_bits[4:6])\n",
        "            carrier_index += 1\n",
        "\n",
        "            carrier_pixels[carrier_index % carrier.width, carrier_index // carrier.width] = embed_bits(carrier_pixels[carrier_index % carrier.width, carrier_index // carrier.width], r_bits[6:]+g_bits[6:]+b_bits[6:])\n",
        "            carrier_index += 1\n",
        "\n",
        "    carrier.save('/content/encoded_image.png')\n",
        "\n",
        "\n",
        "\n",
        "carrier_url = '/content/carrier.jpg'\n",
        "passenger_url = '/content/small_passenger.jpg'\n",
        "final = '/content/final.jpg'\n",
        "log_f = '/content/log1.csv'\n",
        "carrier = Image.open(carrier_url)\n",
        "width1, height1 = carrier.size\n",
        "\n",
        "passenger = Image.open(passenger_url)\n",
        "width2, height2 = passenger.size\n",
        "\n",
        "print(width1, height1)\n",
        "print(width2, height2)\n",
        "\n",
        "if width1 >= 4*width2 and height1 >= 4*height2:\n",
        "    print(\"Carrier image is large enough to contain the passenger image.\")\n",
        "    encode_image(carrier, passenger)\n",
        "else:\n",
        "    print(\"Carrier image is too small to contain the passenger image.\")"
      ]
    },
    {
      "cell_type": "code",
      "source": [
        "#extract image from image\n",
        "from PIL import Image\n",
        "\n",
        "def bin_to_int(binary_str):\n",
        "    return int(binary_str, 2)\n",
        "\n",
        "\n",
        "def extract_bits(carrier_pixel):\n",
        "    r, g, b = carrier_pixel\n",
        "    r_bits = format(r, '08b')\n",
        "    g_bits = format(g, '08b')\n",
        "    b_bits = format(b, '08b')\n",
        "    return r_bits[-2:], g_bits[-2:], b_bits[-2:]\n",
        "\n",
        "def decode_image(carrier, width, height):\n",
        "    carrier_pixels = carrier.load()\n",
        "    decoded_image = Image.new('RGB', (width, height))\n",
        "    decoded_pixels = decoded_image.load()\n",
        "\n",
        "    carrier_index = 0\n",
        "\n",
        "    for y in range(height):\n",
        "        for x in range(width):\n",
        "            r_bits = \"\"\n",
        "            g_bits = \"\"\n",
        "            b_bits = \"\"\n",
        "\n",
        "            for _ in range(4):\n",
        "                r, g, b = extract_bits(carrier_pixels[carrier_index % carrier.width, carrier_index // carrier.width])\n",
        "                r_bits += r\n",
        "                g_bits += g\n",
        "                b_bits += b\n",
        "                carrier_index += 1\n",
        "            r = bin_to_int(r_bits)\n",
        "            g = bin_to_int(g_bits)\n",
        "            b = bin_to_int(b_bits)\n",
        "\n",
        "            decoded_pixels[x, y] = (r, g, b)\n",
        "\n",
        "    decoded_image.save('/content/decoded_image.png')\n",
        "\n",
        "# Example Usage\n",
        "carrier_url = '/content/encoded_image.png'\n",
        "carrier = Image.open(carrier_url)\n",
        "\n",
        "width, height = 227, 222\n",
        "\n",
        "decode_image(carrier, width, height)\n"
      ],
      "metadata": {
        "id": "dvRGbP3g4NX6"
      },
      "execution_count": 2,
      "outputs": []
    },
    {
      "cell_type": "code",
      "source": [
        "#image in video\n",
        "import cv2\n",
        "import numpy as np\n",
        "\n",
        "def encode_image_into_video(video_path, image_path, output_video_path):\n",
        "    cap = cv2.VideoCapture(video_path)\n",
        "    image = cv2.imread(image_path)\n",
        "    #print(image)\n",
        "    img_height, img_width, _ = image.shape\n",
        "    print(img_height, img_width)\n",
        "    if not cap.isOpened():\n",
        "        print(\"Error opening video file\")\n",
        "        return\n",
        "\n",
        "    ret, frame = cap.read()\n",
        "    if not ret or img_height > frame.shape[0] or img_width > frame.shape[1]:\n",
        "        print(\"Image is too large to be hidden in the video.\")\n",
        "        return\n",
        "\n",
        "    fourcc = cv2.VideoWriter_fourcc(*'mp4v')\n",
        "    out = cv2.VideoWriter(output_video_path, fourcc, cap.get(cv2.CAP_PROP_FPS),\n",
        "                          (int(cap.get(3)), int(cap.get(4))))\n",
        "\n",
        "    while cap.isOpened():\n",
        "        ret, frame = cap.read()\n",
        "        #print(cap.get(cv2.CAP_PROP_POS_FRAMES))\n",
        "        if not ret:\n",
        "            break\n",
        "\n",
        "        if cap.get(cv2.CAP_PROP_POS_FRAMES) == 2:\n",
        "            #print(frame[0:img_height, 0:img_width])\n",
        "            frame[0:img_height, 0:img_width] = image\n",
        "\n",
        "            #print('check2')\n",
        "            #print(frame[0:img_height, 0:img_width])\n",
        "\n",
        "\n",
        "        out.write(frame)\n",
        "\n",
        "    cap.release()\n",
        "    out.release()\n",
        "    print(\"Image encoded successfully\")\n",
        "\n",
        "\n",
        "def decode_image_from_video(video_path, img_height, img_width):\n",
        "    cap = cv2.VideoCapture(video_path)\n",
        "\n",
        "    ret, frame = cap.read()\n",
        "    if not ret:\n",
        "        print(\"Failed to read the video.\")\n",
        "        return\n",
        "    #print(frame[0:img_height, 0:img_width])\n",
        "    hidden_image = frame[0:img_height, 0:img_width]\n",
        "\n",
        "    cap.release()\n",
        "    return hidden_image\n",
        "\n",
        "video_path = '/content/video.mp4'\n",
        "image_path = '/content/passenger2.png'\n",
        "output_video_path = '/content/encoded_video.mp4'\n",
        "encode_image_into_video(video_path, image_path, output_video_path)\n",
        "\n",
        "decoded_image = decode_image_from_video(output_video_path, 400, 399)\n",
        "cv2.imwrite('/content/decoded_image_from_video.png', decoded_image)"
      ],
      "metadata": {
        "colab": {
          "base_uri": "https://localhost:8080/"
        },
        "id": "p-WZO8FT7DmO",
        "outputId": "6a31ffe4-9ec0-440e-d19c-4d6b0dceebb9"
      },
      "execution_count": 3,
      "outputs": [
        {
          "output_type": "stream",
          "name": "stdout",
          "text": [
            "400 399\n",
            "Image encoded successfully\n"
          ]
        },
        {
          "output_type": "execute_result",
          "data": {
            "text/plain": [
              "True"
            ]
          },
          "metadata": {},
          "execution_count": 3
        }
      ]
    },
    {
      "cell_type": "code",
      "source": [],
      "metadata": {
        "id": "am8T02Oy8DTc"
      },
      "execution_count": 42,
      "outputs": []
    }
  ]
}